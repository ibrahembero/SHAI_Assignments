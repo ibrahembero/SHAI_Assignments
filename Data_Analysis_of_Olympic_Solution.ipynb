{
  "cells": [
    {
      "cell_type": "markdown",
      "metadata": {
        "id": "Uqb0pPHcEieo"
      },
      "source": [
        "[Data in Kaggle](https://www.kaggle.com/heesoo37/120-years-of-olympic-history-athletes-and-results?select=athlete_events.csv)"
      ]
    },
    {
      "cell_type": "markdown",
      "metadata": {
        "id": "H5pHJcDMHI8O"
      },
      "source": [
        "# Import the libraries"
      ]
    },
    {
      "cell_type": "code",
      "execution_count": 25,
      "metadata": {
        "id": "jyHxLtv5HMWO"
      },
      "outputs": [],
      "source": [
        "import numpy as np\n",
        "import pandas as pd\n",
        "import matplotlib.pyplot as plt\n",
        "import seaborn as sb"
      ]
    },
    {
      "cell_type": "code",
      "source": [
        "from google.colab import drive\n",
        "drive.mount('/content/drive')"
      ],
      "metadata": {
        "colab": {
          "base_uri": "https://localhost:8080/"
        },
        "id": "5MmYr9X6ral7",
        "outputId": "67460b29-e30a-41de-fcab-a7ed9e6ca69c"
      },
      "execution_count": 26,
      "outputs": [
        {
          "output_type": "stream",
          "name": "stdout",
          "text": [
            "Drive already mounted at /content/drive; to attempt to forcibly remount, call drive.mount(\"/content/drive\", force_remount=True).\n"
          ]
        }
      ]
    },
    {
      "cell_type": "markdown",
      "metadata": {
        "id": "vFBCK3F7GV5D"
      },
      "source": [
        "# Read the data"
      ]
    },
    {
      "cell_type": "code",
      "execution_count": 27,
      "metadata": {
        "id": "JWEgG-b8GVHb",
        "colab": {
          "base_uri": "https://localhost:8080/",
          "height": 175
        },
        "outputId": "a48c2248-119a-4a0a-bbbd-4fc9a32c1d97"
      },
      "outputs": [
        {
          "output_type": "execute_result",
          "data": {
            "text/plain": [
              "   ID                  Name Sex   Age  Height  Weight            Team  NOC  \\\n",
              "0   1             A Dijiang   M  24.0   180.0    80.0           China  CHN   \n",
              "1   2              A Lamusi   M  23.0   170.0    60.0           China  CHN   \n",
              "2   3   Gunnar Nielsen Aaby   M  24.0     NaN     NaN         Denmark  DEN   \n",
              "3   4  Edgar Lindenau Aabye   M  34.0     NaN     NaN  Denmark/Sweden  DEN   \n",
              "\n",
              "         Games  Year  Season       City       Sport  \\\n",
              "0  1992 Summer  1992  Summer  Barcelona  Basketball   \n",
              "1  2012 Summer  2012  Summer     London        Judo   \n",
              "2  1920 Summer  1920  Summer  Antwerpen    Football   \n",
              "3  1900 Summer  1900  Summer      Paris  Tug-Of-War   \n",
              "\n",
              "                          Event Medal  \n",
              "0   Basketball Men's Basketball   NaN  \n",
              "1  Judo Men's Extra-Lightweight   NaN  \n",
              "2       Football Men's Football   NaN  \n",
              "3   Tug-Of-War Men's Tug-Of-War  Gold  "
            ],
            "text/html": [
              "\n",
              "  <div id=\"df-b36767d7-cd1c-4429-9b10-24a82c3e9384\" class=\"colab-df-container\">\n",
              "    <div>\n",
              "<style scoped>\n",
              "    .dataframe tbody tr th:only-of-type {\n",
              "        vertical-align: middle;\n",
              "    }\n",
              "\n",
              "    .dataframe tbody tr th {\n",
              "        vertical-align: top;\n",
              "    }\n",
              "\n",
              "    .dataframe thead th {\n",
              "        text-align: right;\n",
              "    }\n",
              "</style>\n",
              "<table border=\"1\" class=\"dataframe\">\n",
              "  <thead>\n",
              "    <tr style=\"text-align: right;\">\n",
              "      <th></th>\n",
              "      <th>ID</th>\n",
              "      <th>Name</th>\n",
              "      <th>Sex</th>\n",
              "      <th>Age</th>\n",
              "      <th>Height</th>\n",
              "      <th>Weight</th>\n",
              "      <th>Team</th>\n",
              "      <th>NOC</th>\n",
              "      <th>Games</th>\n",
              "      <th>Year</th>\n",
              "      <th>Season</th>\n",
              "      <th>City</th>\n",
              "      <th>Sport</th>\n",
              "      <th>Event</th>\n",
              "      <th>Medal</th>\n",
              "    </tr>\n",
              "  </thead>\n",
              "  <tbody>\n",
              "    <tr>\n",
              "      <th>0</th>\n",
              "      <td>1</td>\n",
              "      <td>A Dijiang</td>\n",
              "      <td>M</td>\n",
              "      <td>24.0</td>\n",
              "      <td>180.0</td>\n",
              "      <td>80.0</td>\n",
              "      <td>China</td>\n",
              "      <td>CHN</td>\n",
              "      <td>1992 Summer</td>\n",
              "      <td>1992</td>\n",
              "      <td>Summer</td>\n",
              "      <td>Barcelona</td>\n",
              "      <td>Basketball</td>\n",
              "      <td>Basketball Men's Basketball</td>\n",
              "      <td>NaN</td>\n",
              "    </tr>\n",
              "    <tr>\n",
              "      <th>1</th>\n",
              "      <td>2</td>\n",
              "      <td>A Lamusi</td>\n",
              "      <td>M</td>\n",
              "      <td>23.0</td>\n",
              "      <td>170.0</td>\n",
              "      <td>60.0</td>\n",
              "      <td>China</td>\n",
              "      <td>CHN</td>\n",
              "      <td>2012 Summer</td>\n",
              "      <td>2012</td>\n",
              "      <td>Summer</td>\n",
              "      <td>London</td>\n",
              "      <td>Judo</td>\n",
              "      <td>Judo Men's Extra-Lightweight</td>\n",
              "      <td>NaN</td>\n",
              "    </tr>\n",
              "    <tr>\n",
              "      <th>2</th>\n",
              "      <td>3</td>\n",
              "      <td>Gunnar Nielsen Aaby</td>\n",
              "      <td>M</td>\n",
              "      <td>24.0</td>\n",
              "      <td>NaN</td>\n",
              "      <td>NaN</td>\n",
              "      <td>Denmark</td>\n",
              "      <td>DEN</td>\n",
              "      <td>1920 Summer</td>\n",
              "      <td>1920</td>\n",
              "      <td>Summer</td>\n",
              "      <td>Antwerpen</td>\n",
              "      <td>Football</td>\n",
              "      <td>Football Men's Football</td>\n",
              "      <td>NaN</td>\n",
              "    </tr>\n",
              "    <tr>\n",
              "      <th>3</th>\n",
              "      <td>4</td>\n",
              "      <td>Edgar Lindenau Aabye</td>\n",
              "      <td>M</td>\n",
              "      <td>34.0</td>\n",
              "      <td>NaN</td>\n",
              "      <td>NaN</td>\n",
              "      <td>Denmark/Sweden</td>\n",
              "      <td>DEN</td>\n",
              "      <td>1900 Summer</td>\n",
              "      <td>1900</td>\n",
              "      <td>Summer</td>\n",
              "      <td>Paris</td>\n",
              "      <td>Tug-Of-War</td>\n",
              "      <td>Tug-Of-War Men's Tug-Of-War</td>\n",
              "      <td>Gold</td>\n",
              "    </tr>\n",
              "  </tbody>\n",
              "</table>\n",
              "</div>\n",
              "    <div class=\"colab-df-buttons\">\n",
              "\n",
              "  <div class=\"colab-df-container\">\n",
              "    <button class=\"colab-df-convert\" onclick=\"convertToInteractive('df-b36767d7-cd1c-4429-9b10-24a82c3e9384')\"\n",
              "            title=\"Convert this dataframe to an interactive table.\"\n",
              "            style=\"display:none;\">\n",
              "\n",
              "  <svg xmlns=\"http://www.w3.org/2000/svg\" height=\"24px\" viewBox=\"0 -960 960 960\">\n",
              "    <path d=\"M120-120v-720h720v720H120Zm60-500h600v-160H180v160Zm220 220h160v-160H400v160Zm0 220h160v-160H400v160ZM180-400h160v-160H180v160Zm440 0h160v-160H620v160ZM180-180h160v-160H180v160Zm440 0h160v-160H620v160Z\"/>\n",
              "  </svg>\n",
              "    </button>\n",
              "\n",
              "  <style>\n",
              "    .colab-df-container {\n",
              "      display:flex;\n",
              "      gap: 12px;\n",
              "    }\n",
              "\n",
              "    .colab-df-convert {\n",
              "      background-color: #E8F0FE;\n",
              "      border: none;\n",
              "      border-radius: 50%;\n",
              "      cursor: pointer;\n",
              "      display: none;\n",
              "      fill: #1967D2;\n",
              "      height: 32px;\n",
              "      padding: 0 0 0 0;\n",
              "      width: 32px;\n",
              "    }\n",
              "\n",
              "    .colab-df-convert:hover {\n",
              "      background-color: #E2EBFA;\n",
              "      box-shadow: 0px 1px 2px rgba(60, 64, 67, 0.3), 0px 1px 3px 1px rgba(60, 64, 67, 0.15);\n",
              "      fill: #174EA6;\n",
              "    }\n",
              "\n",
              "    .colab-df-buttons div {\n",
              "      margin-bottom: 4px;\n",
              "    }\n",
              "\n",
              "    [theme=dark] .colab-df-convert {\n",
              "      background-color: #3B4455;\n",
              "      fill: #D2E3FC;\n",
              "    }\n",
              "\n",
              "    [theme=dark] .colab-df-convert:hover {\n",
              "      background-color: #434B5C;\n",
              "      box-shadow: 0px 1px 3px 1px rgba(0, 0, 0, 0.15);\n",
              "      filter: drop-shadow(0px 1px 2px rgba(0, 0, 0, 0.3));\n",
              "      fill: #FFFFFF;\n",
              "    }\n",
              "  </style>\n",
              "\n",
              "    <script>\n",
              "      const buttonEl =\n",
              "        document.querySelector('#df-b36767d7-cd1c-4429-9b10-24a82c3e9384 button.colab-df-convert');\n",
              "      buttonEl.style.display =\n",
              "        google.colab.kernel.accessAllowed ? 'block' : 'none';\n",
              "\n",
              "      async function convertToInteractive(key) {\n",
              "        const element = document.querySelector('#df-b36767d7-cd1c-4429-9b10-24a82c3e9384');\n",
              "        const dataTable =\n",
              "          await google.colab.kernel.invokeFunction('convertToInteractive',\n",
              "                                                    [key], {});\n",
              "        if (!dataTable) return;\n",
              "\n",
              "        const docLinkHtml = 'Like what you see? Visit the ' +\n",
              "          '<a target=\"_blank\" href=https://colab.research.google.com/notebooks/data_table.ipynb>data table notebook</a>'\n",
              "          + ' to learn more about interactive tables.';\n",
              "        element.innerHTML = '';\n",
              "        dataTable['output_type'] = 'display_data';\n",
              "        await google.colab.output.renderOutput(dataTable, element);\n",
              "        const docLink = document.createElement('div');\n",
              "        docLink.innerHTML = docLinkHtml;\n",
              "        element.appendChild(docLink);\n",
              "      }\n",
              "    </script>\n",
              "  </div>\n",
              "\n",
              "\n",
              "<div id=\"df-57742f57-fbc8-4ced-956b-e01d1f4ccd21\">\n",
              "  <button class=\"colab-df-quickchart\" onclick=\"quickchart('df-57742f57-fbc8-4ced-956b-e01d1f4ccd21')\"\n",
              "            title=\"Suggest charts\"\n",
              "            style=\"display:none;\">\n",
              "\n",
              "<svg xmlns=\"http://www.w3.org/2000/svg\" height=\"24px\"viewBox=\"0 0 24 24\"\n",
              "     width=\"24px\">\n",
              "    <g>\n",
              "        <path d=\"M19 3H5c-1.1 0-2 .9-2 2v14c0 1.1.9 2 2 2h14c1.1 0 2-.9 2-2V5c0-1.1-.9-2-2-2zM9 17H7v-7h2v7zm4 0h-2V7h2v10zm4 0h-2v-4h2v4z\"/>\n",
              "    </g>\n",
              "</svg>\n",
              "  </button>\n",
              "\n",
              "<style>\n",
              "  .colab-df-quickchart {\n",
              "      --bg-color: #E8F0FE;\n",
              "      --fill-color: #1967D2;\n",
              "      --hover-bg-color: #E2EBFA;\n",
              "      --hover-fill-color: #174EA6;\n",
              "      --disabled-fill-color: #AAA;\n",
              "      --disabled-bg-color: #DDD;\n",
              "  }\n",
              "\n",
              "  [theme=dark] .colab-df-quickchart {\n",
              "      --bg-color: #3B4455;\n",
              "      --fill-color: #D2E3FC;\n",
              "      --hover-bg-color: #434B5C;\n",
              "      --hover-fill-color: #FFFFFF;\n",
              "      --disabled-bg-color: #3B4455;\n",
              "      --disabled-fill-color: #666;\n",
              "  }\n",
              "\n",
              "  .colab-df-quickchart {\n",
              "    background-color: var(--bg-color);\n",
              "    border: none;\n",
              "    border-radius: 50%;\n",
              "    cursor: pointer;\n",
              "    display: none;\n",
              "    fill: var(--fill-color);\n",
              "    height: 32px;\n",
              "    padding: 0;\n",
              "    width: 32px;\n",
              "  }\n",
              "\n",
              "  .colab-df-quickchart:hover {\n",
              "    background-color: var(--hover-bg-color);\n",
              "    box-shadow: 0 1px 2px rgba(60, 64, 67, 0.3), 0 1px 3px 1px rgba(60, 64, 67, 0.15);\n",
              "    fill: var(--button-hover-fill-color);\n",
              "  }\n",
              "\n",
              "  .colab-df-quickchart-complete:disabled,\n",
              "  .colab-df-quickchart-complete:disabled:hover {\n",
              "    background-color: var(--disabled-bg-color);\n",
              "    fill: var(--disabled-fill-color);\n",
              "    box-shadow: none;\n",
              "  }\n",
              "\n",
              "  .colab-df-spinner {\n",
              "    border: 2px solid var(--fill-color);\n",
              "    border-color: transparent;\n",
              "    border-bottom-color: var(--fill-color);\n",
              "    animation:\n",
              "      spin 1s steps(1) infinite;\n",
              "  }\n",
              "\n",
              "  @keyframes spin {\n",
              "    0% {\n",
              "      border-color: transparent;\n",
              "      border-bottom-color: var(--fill-color);\n",
              "      border-left-color: var(--fill-color);\n",
              "    }\n",
              "    20% {\n",
              "      border-color: transparent;\n",
              "      border-left-color: var(--fill-color);\n",
              "      border-top-color: var(--fill-color);\n",
              "    }\n",
              "    30% {\n",
              "      border-color: transparent;\n",
              "      border-left-color: var(--fill-color);\n",
              "      border-top-color: var(--fill-color);\n",
              "      border-right-color: var(--fill-color);\n",
              "    }\n",
              "    40% {\n",
              "      border-color: transparent;\n",
              "      border-right-color: var(--fill-color);\n",
              "      border-top-color: var(--fill-color);\n",
              "    }\n",
              "    60% {\n",
              "      border-color: transparent;\n",
              "      border-right-color: var(--fill-color);\n",
              "    }\n",
              "    80% {\n",
              "      border-color: transparent;\n",
              "      border-right-color: var(--fill-color);\n",
              "      border-bottom-color: var(--fill-color);\n",
              "    }\n",
              "    90% {\n",
              "      border-color: transparent;\n",
              "      border-bottom-color: var(--fill-color);\n",
              "    }\n",
              "  }\n",
              "</style>\n",
              "\n",
              "  <script>\n",
              "    async function quickchart(key) {\n",
              "      const quickchartButtonEl =\n",
              "        document.querySelector('#' + key + ' button');\n",
              "      quickchartButtonEl.disabled = true;  // To prevent multiple clicks.\n",
              "      quickchartButtonEl.classList.add('colab-df-spinner');\n",
              "      try {\n",
              "        const charts = await google.colab.kernel.invokeFunction(\n",
              "            'suggestCharts', [key], {});\n",
              "      } catch (error) {\n",
              "        console.error('Error during call to suggestCharts:', error);\n",
              "      }\n",
              "      quickchartButtonEl.classList.remove('colab-df-spinner');\n",
              "      quickchartButtonEl.classList.add('colab-df-quickchart-complete');\n",
              "    }\n",
              "    (() => {\n",
              "      let quickchartButtonEl =\n",
              "        document.querySelector('#df-57742f57-fbc8-4ced-956b-e01d1f4ccd21 button');\n",
              "      quickchartButtonEl.style.display =\n",
              "        google.colab.kernel.accessAllowed ? 'block' : 'none';\n",
              "    })();\n",
              "  </script>\n",
              "</div>\n",
              "    </div>\n",
              "  </div>\n"
            ]
          },
          "metadata": {},
          "execution_count": 27
        }
      ],
      "source": [
        "athlete_dataframe = pd.read_csv('/content/drive/MyDrive/Data_For_Analysis/athlete_events.csv')\n",
        "df = athlete_dataframe.copy()\n",
        "df.head(4)"
      ]
    },
    {
      "cell_type": "code",
      "source": [
        "df.info()"
      ],
      "metadata": {
        "colab": {
          "base_uri": "https://localhost:8080/"
        },
        "id": "MpiL7vPMu_EH",
        "outputId": "800715b4-95b2-4d1c-e383-bcca1057313c"
      },
      "execution_count": 28,
      "outputs": [
        {
          "output_type": "stream",
          "name": "stdout",
          "text": [
            "<class 'pandas.core.frame.DataFrame'>\n",
            "RangeIndex: 271116 entries, 0 to 271115\n",
            "Data columns (total 15 columns):\n",
            " #   Column  Non-Null Count   Dtype  \n",
            "---  ------  --------------   -----  \n",
            " 0   ID      271116 non-null  int64  \n",
            " 1   Name    271116 non-null  object \n",
            " 2   Sex     271116 non-null  object \n",
            " 3   Age     261642 non-null  float64\n",
            " 4   Height  210945 non-null  float64\n",
            " 5   Weight  208241 non-null  float64\n",
            " 6   Team    271116 non-null  object \n",
            " 7   NOC     271116 non-null  object \n",
            " 8   Games   271116 non-null  object \n",
            " 9   Year    271116 non-null  int64  \n",
            " 10  Season  271116 non-null  object \n",
            " 11  City    271116 non-null  object \n",
            " 12  Sport   271116 non-null  object \n",
            " 13  Event   271116 non-null  object \n",
            " 14  Medal   39783 non-null   object \n",
            "dtypes: float64(3), int64(2), object(10)\n",
            "memory usage: 31.0+ MB\n"
          ]
        }
      ]
    },
    {
      "cell_type": "markdown",
      "metadata": {
        "id": "BzjwXwKf4uq5"
      },
      "source": [
        "### Don't forget to drop duplicates first"
      ]
    },
    {
      "cell_type": "code",
      "execution_count": 29,
      "metadata": {
        "id": "TgQjyPdT4vBW",
        "colab": {
          "base_uri": "https://localhost:8080/"
        },
        "outputId": "70c4fdb5-65fa-4b9e-af1b-08ead2935e3e"
      },
      "outputs": [
        {
          "output_type": "execute_result",
          "data": {
            "text/plain": [
              "1385"
            ]
          },
          "metadata": {},
          "execution_count": 29
        }
      ],
      "source": [
        "# check duplicate\n",
        "df.duplicated().sum()"
      ]
    },
    {
      "cell_type": "code",
      "source": [
        "df.drop_duplicates(inplace=  True  )"
      ],
      "metadata": {
        "id": "T1onnzvPuMWp"
      },
      "execution_count": 30,
      "outputs": []
    },
    {
      "cell_type": "code",
      "source": [
        "# check duplicate again\n",
        "df.duplicated().sum()"
      ],
      "metadata": {
        "colab": {
          "base_uri": "https://localhost:8080/"
        },
        "id": "mKguDJo8uOoJ",
        "outputId": "7f7824b0-6a26-491f-9a3f-1a6bdaa486a5"
      },
      "execution_count": 31,
      "outputs": [
        {
          "output_type": "execute_result",
          "data": {
            "text/plain": [
              "0"
            ]
          },
          "metadata": {},
          "execution_count": 31
        }
      ]
    },
    {
      "cell_type": "markdown",
      "metadata": {
        "id": "o_iTOxlcGUeT"
      },
      "source": [
        "# <font color='red'>**Beginner level**</font>"
      ]
    },
    {
      "cell_type": "markdown",
      "metadata": {
        "id": "XSRBTpdq4SHr"
      },
      "source": [
        "### Find the missing data in each column"
      ]
    },
    {
      "cell_type": "code",
      "execution_count": 32,
      "metadata": {
        "id": "oMCn6iQ84RC3",
        "colab": {
          "base_uri": "https://localhost:8080/"
        },
        "outputId": "a86c262a-bba8-4b6e-c15a-9a41564c3737"
      },
      "outputs": [
        {
          "output_type": "execute_result",
          "data": {
            "text/plain": [
              "ID             0\n",
              "Name           0\n",
              "Sex            0\n",
              "Age         9315\n",
              "Height     58814\n",
              "Weight     61527\n",
              "Team           0\n",
              "NOC            0\n",
              "Games          0\n",
              "Year           0\n",
              "Season         0\n",
              "City           0\n",
              "Sport          0\n",
              "Event          0\n",
              "Medal     229959\n",
              "dtype: int64"
            ]
          },
          "metadata": {},
          "execution_count": 32
        }
      ],
      "source": [
        "df.isnull().sum()"
      ]
    },
    {
      "cell_type": "markdown",
      "metadata": {
        "id": "bEQx6FUW4Wp7"
      },
      "source": [
        "### Number of males and females"
      ]
    },
    {
      "cell_type": "code",
      "execution_count": 33,
      "metadata": {
        "id": "IEcJI7874WIy",
        "colab": {
          "base_uri": "https://localhost:8080/"
        },
        "outputId": "229e80d4-7728-46de-e61d-d7851e3916e9"
      },
      "outputs": [
        {
          "output_type": "execute_result",
          "data": {
            "text/plain": [
              "M    195353\n",
              "F     74378\n",
              "Name: Sex, dtype: int64"
            ]
          },
          "metadata": {},
          "execution_count": 33
        }
      ],
      "source": [
        "df['Sex'].value_counts()"
      ]
    },
    {
      "cell_type": "markdown",
      "metadata": {
        "id": "caEJAuvr6JhT"
      },
      "source": [
        "### How many cities do we have and what are they ?"
      ]
    },
    {
      "cell_type": "code",
      "execution_count": 34,
      "metadata": {
        "id": "R3mjcMR06J3H",
        "colab": {
          "base_uri": "https://localhost:8080/"
        },
        "outputId": "c033b6b7-2c3e-44c7-88a9-bd2da467f1cc"
      },
      "outputs": [
        {
          "output_type": "execute_result",
          "data": {
            "text/plain": [
              "42"
            ]
          },
          "metadata": {},
          "execution_count": 34
        }
      ],
      "source": [
        "len(df['City'].unique())"
      ]
    },
    {
      "cell_type": "code",
      "source": [
        "df['City'].unique().tolist()"
      ],
      "metadata": {
        "colab": {
          "base_uri": "https://localhost:8080/"
        },
        "id": "mk__DVVjwCPe",
        "outputId": "05653d60-4b81-42ce-df37-1c13d8e31fec"
      },
      "execution_count": 35,
      "outputs": [
        {
          "output_type": "execute_result",
          "data": {
            "text/plain": [
              "['Barcelona',\n",
              " 'London',\n",
              " 'Antwerpen',\n",
              " 'Paris',\n",
              " 'Calgary',\n",
              " 'Albertville',\n",
              " 'Lillehammer',\n",
              " 'Los Angeles',\n",
              " 'Salt Lake City',\n",
              " 'Helsinki',\n",
              " 'Lake Placid',\n",
              " 'Sydney',\n",
              " 'Atlanta',\n",
              " 'Stockholm',\n",
              " 'Sochi',\n",
              " 'Nagano',\n",
              " 'Torino',\n",
              " 'Beijing',\n",
              " 'Rio de Janeiro',\n",
              " 'Athina',\n",
              " 'Squaw Valley',\n",
              " 'Innsbruck',\n",
              " 'Sarajevo',\n",
              " 'Mexico City',\n",
              " 'Munich',\n",
              " 'Seoul',\n",
              " 'Berlin',\n",
              " 'Oslo',\n",
              " \"Cortina d'Ampezzo\",\n",
              " 'Melbourne',\n",
              " 'Roma',\n",
              " 'Amsterdam',\n",
              " 'Montreal',\n",
              " 'Moskva',\n",
              " 'Tokyo',\n",
              " 'Vancouver',\n",
              " 'Grenoble',\n",
              " 'Sapporo',\n",
              " 'Chamonix',\n",
              " 'St. Louis',\n",
              " 'Sankt Moritz',\n",
              " 'Garmisch-Partenkirchen']"
            ]
          },
          "metadata": {},
          "execution_count": 35
        }
      ]
    },
    {
      "cell_type": "markdown",
      "metadata": {
        "id": "rfCV9OvWdLfS"
      },
      "source": [
        "# <font color='red'>**Intermediate level**</fond>"
      ]
    },
    {
      "cell_type": "markdown",
      "metadata": {
        "id": "bMk9AiG6zlwS"
      },
      "source": [
        "### Find the number of athlete for each year"
      ]
    },
    {
      "cell_type": "code",
      "source": [
        "df_year = df.groupby('Year')"
      ],
      "metadata": {
        "id": "37mk2vpuxRtz"
      },
      "execution_count": 36,
      "outputs": []
    },
    {
      "cell_type": "code",
      "execution_count": 37,
      "metadata": {
        "id": "3axwvme9zsh3",
        "colab": {
          "base_uri": "https://localhost:8080/"
        },
        "outputId": "b0a4d303-203c-4f59-df90-9ed8f84a8513"
      },
      "outputs": [
        {
          "output_type": "execute_result",
          "data": {
            "text/plain": [
              "Year\n",
              "1896      176\n",
              "1900     1224\n",
              "1904      650\n",
              "1906      841\n",
              "1908     2024\n",
              "1912     2409\n",
              "1920     2676\n",
              "1924     3565\n",
              "1928     3703\n",
              "1932     2174\n",
              "1936     5142\n",
              "1948     5068\n",
              "1952     5622\n",
              "1956     4167\n",
              "1960     6017\n",
              "1964     6230\n",
              "1968     6717\n",
              "1972     8122\n",
              "1976     7200\n",
              "1980     6330\n",
              "1984     8067\n",
              "1988     9873\n",
              "1992    11183\n",
              "1994     1738\n",
              "1996    10339\n",
              "1998     2179\n",
              "2000    10647\n",
              "2002     2399\n",
              "2004    10557\n",
              "2006     2494\n",
              "2008    10899\n",
              "2010     2536\n",
              "2012    10517\n",
              "2014     2745\n",
              "2016    11179\n",
              "Name: ID, dtype: int64"
            ]
          },
          "metadata": {},
          "execution_count": 37
        }
      ],
      "source": [
        "df_year['ID'].nunique()"
      ]
    },
    {
      "cell_type": "markdown",
      "metadata": {
        "id": "CLiNn4S3ztGn"
      },
      "source": [
        "### Which athlete participated the most? (his/her name and ID)"
      ]
    },
    {
      "cell_type": "code",
      "execution_count": 38,
      "metadata": {
        "id": "CVuQRkkqzngx",
        "colab": {
          "base_uri": "https://localhost:8080/"
        },
        "outputId": "34f7c8d2-bda7-4529-b9bc-cb344870390f"
      },
      "outputs": [
        {
          "output_type": "execute_result",
          "data": {
            "text/plain": [
              "ID                        106296\n",
              "Name    Heikki Ilmari Savolainen\n",
              "Name: 211668, dtype: object"
            ]
          },
          "metadata": {},
          "execution_count": 38
        }
      ],
      "source": [
        "df[df['ID'] == df['ID'].value_counts().idxmax()][['ID','Name']].iloc[0]"
      ]
    },
    {
      "cell_type": "markdown",
      "metadata": {
        "id": "c2w7UVsFG2yW"
      },
      "source": [
        "# <font color='red'>**Advanced level**</fond>"
      ]
    },
    {
      "cell_type": "markdown",
      "metadata": {
        "id": "ypxonNr4dQFn"
      },
      "source": [
        "### Find the number of each medal for each year.\n",
        "##### The output should look like this\n",
        "![Capture.PNG](data:image/png;base64,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)"
      ]
    },
    {
      "cell_type": "code",
      "execution_count": 39,
      "metadata": {
        "id": "SVi5vpTRdP0S",
        "colab": {
          "base_uri": "https://localhost:8080/"
        },
        "outputId": "82fd2d07-8200-4bda-e079-2a11f0379f75"
      },
      "outputs": [
        {
          "output_type": "execute_result",
          "data": {
            "text/plain": [
              "Year  Medal \n",
              "1896  Gold       62\n",
              "      Silver     43\n",
              "      Bronze     38\n",
              "1900  Silver    220\n",
              "      Gold      198\n",
              "               ... \n",
              "2014  Bronze    198\n",
              "      Silver    197\n",
              "2016  Bronze    703\n",
              "      Gold      665\n",
              "      Silver    655\n",
              "Name: Medal, Length: 105, dtype: int64"
            ]
          },
          "metadata": {},
          "execution_count": 39
        }
      ],
      "source": [
        "df_medal = df.groupby('Year')['Medal'].value_counts()\n",
        "df_medal"
      ]
    },
    {
      "cell_type": "code",
      "source": [
        "medal_rename = df_medal.unstack(level=-1)\n",
        "medal_rename.columns = ['N_Bronze','N_Gold','N_Silver']\n",
        "medal_rename\n",
        "\n"
      ],
      "metadata": {
        "colab": {
          "base_uri": "https://localhost:8080/",
          "height": 1000
        },
        "id": "KA0u_xc7xtIX",
        "outputId": "295fa087-7091-4d24-d1c4-18b8966d229f"
      },
      "execution_count": 50,
      "outputs": [
        {
          "output_type": "execute_result",
          "data": {
            "text/plain": [
              "      N_Bronze  N_Gold  N_Silver\n",
              "Year                            \n",
              "1896        38      62        43\n",
              "1900       175     198       220\n",
              "1904       150     173       163\n",
              "1906       145     157       156\n",
              "1908       256     294       281\n",
              "1912       300     326       315\n",
              "1920       367     493       448\n",
              "1924       311     332       319\n",
              "1928       281     275       267\n",
              "1932       232     261       246\n",
              "1936       330     348       347\n",
              "1948       325     330       332\n",
              "1952       347     351       335\n",
              "1956       348     353       342\n",
              "1960       357     359       342\n",
              "1964       401     408       406\n",
              "1968       421     425       410\n",
              "1972       485     474       455\n",
              "1976       518     508       505\n",
              "1980       542     529       531\n",
              "1984       576     571       551\n",
              "1988       637     607       601\n",
              "1992       710     663       657\n",
              "1994       112     110       109\n",
              "1996       629     608       605\n",
              "1998       150     145       145\n",
              "2000       680     663       661\n",
              "2002       159     162       157\n",
              "2004       677     664       660\n",
              "2006       175     176       175\n",
              "2008       710     671       667\n",
              "2010       171     174       175\n",
              "2012       679     632       630\n",
              "2014       198     202       197\n",
              "2016       703     665       655"
            ],
            "text/html": [
              "\n",
              "  <div id=\"df-596065bd-6bb6-4abe-b56f-4913de804a36\" class=\"colab-df-container\">\n",
              "    <div>\n",
              "<style scoped>\n",
              "    .dataframe tbody tr th:only-of-type {\n",
              "        vertical-align: middle;\n",
              "    }\n",
              "\n",
              "    .dataframe tbody tr th {\n",
              "        vertical-align: top;\n",
              "    }\n",
              "\n",
              "    .dataframe thead th {\n",
              "        text-align: right;\n",
              "    }\n",
              "</style>\n",
              "<table border=\"1\" class=\"dataframe\">\n",
              "  <thead>\n",
              "    <tr style=\"text-align: right;\">\n",
              "      <th></th>\n",
              "      <th>N_Bronze</th>\n",
              "      <th>N_Gold</th>\n",
              "      <th>N_Silver</th>\n",
              "    </tr>\n",
              "    <tr>\n",
              "      <th>Year</th>\n",
              "      <th></th>\n",
              "      <th></th>\n",
              "      <th></th>\n",
              "    </tr>\n",
              "  </thead>\n",
              "  <tbody>\n",
              "    <tr>\n",
              "      <th>1896</th>\n",
              "      <td>38</td>\n",
              "      <td>62</td>\n",
              "      <td>43</td>\n",
              "    </tr>\n",
              "    <tr>\n",
              "      <th>1900</th>\n",
              "      <td>175</td>\n",
              "      <td>198</td>\n",
              "      <td>220</td>\n",
              "    </tr>\n",
              "    <tr>\n",
              "      <th>1904</th>\n",
              "      <td>150</td>\n",
              "      <td>173</td>\n",
              "      <td>163</td>\n",
              "    </tr>\n",
              "    <tr>\n",
              "      <th>1906</th>\n",
              "      <td>145</td>\n",
              "      <td>157</td>\n",
              "      <td>156</td>\n",
              "    </tr>\n",
              "    <tr>\n",
              "      <th>1908</th>\n",
              "      <td>256</td>\n",
              "      <td>294</td>\n",
              "      <td>281</td>\n",
              "    </tr>\n",
              "    <tr>\n",
              "      <th>1912</th>\n",
              "      <td>300</td>\n",
              "      <td>326</td>\n",
              "      <td>315</td>\n",
              "    </tr>\n",
              "    <tr>\n",
              "      <th>1920</th>\n",
              "      <td>367</td>\n",
              "      <td>493</td>\n",
              "      <td>448</td>\n",
              "    </tr>\n",
              "    <tr>\n",
              "      <th>1924</th>\n",
              "      <td>311</td>\n",
              "      <td>332</td>\n",
              "      <td>319</td>\n",
              "    </tr>\n",
              "    <tr>\n",
              "      <th>1928</th>\n",
              "      <td>281</td>\n",
              "      <td>275</td>\n",
              "      <td>267</td>\n",
              "    </tr>\n",
              "    <tr>\n",
              "      <th>1932</th>\n",
              "      <td>232</td>\n",
              "      <td>261</td>\n",
              "      <td>246</td>\n",
              "    </tr>\n",
              "    <tr>\n",
              "      <th>1936</th>\n",
              "      <td>330</td>\n",
              "      <td>348</td>\n",
              "      <td>347</td>\n",
              "    </tr>\n",
              "    <tr>\n",
              "      <th>1948</th>\n",
              "      <td>325</td>\n",
              "      <td>330</td>\n",
              "      <td>332</td>\n",
              "    </tr>\n",
              "    <tr>\n",
              "      <th>1952</th>\n",
              "      <td>347</td>\n",
              "      <td>351</td>\n",
              "      <td>335</td>\n",
              "    </tr>\n",
              "    <tr>\n",
              "      <th>1956</th>\n",
              "      <td>348</td>\n",
              "      <td>353</td>\n",
              "      <td>342</td>\n",
              "    </tr>\n",
              "    <tr>\n",
              "      <th>1960</th>\n",
              "      <td>357</td>\n",
              "      <td>359</td>\n",
              "      <td>342</td>\n",
              "    </tr>\n",
              "    <tr>\n",
              "      <th>1964</th>\n",
              "      <td>401</td>\n",
              "      <td>408</td>\n",
              "      <td>406</td>\n",
              "    </tr>\n",
              "    <tr>\n",
              "      <th>1968</th>\n",
              "      <td>421</td>\n",
              "      <td>425</td>\n",
              "      <td>410</td>\n",
              "    </tr>\n",
              "    <tr>\n",
              "      <th>1972</th>\n",
              "      <td>485</td>\n",
              "      <td>474</td>\n",
              "      <td>455</td>\n",
              "    </tr>\n",
              "    <tr>\n",
              "      <th>1976</th>\n",
              "      <td>518</td>\n",
              "      <td>508</td>\n",
              "      <td>505</td>\n",
              "    </tr>\n",
              "    <tr>\n",
              "      <th>1980</th>\n",
              "      <td>542</td>\n",
              "      <td>529</td>\n",
              "      <td>531</td>\n",
              "    </tr>\n",
              "    <tr>\n",
              "      <th>1984</th>\n",
              "      <td>576</td>\n",
              "      <td>571</td>\n",
              "      <td>551</td>\n",
              "    </tr>\n",
              "    <tr>\n",
              "      <th>1988</th>\n",
              "      <td>637</td>\n",
              "      <td>607</td>\n",
              "      <td>601</td>\n",
              "    </tr>\n",
              "    <tr>\n",
              "      <th>1992</th>\n",
              "      <td>710</td>\n",
              "      <td>663</td>\n",
              "      <td>657</td>\n",
              "    </tr>\n",
              "    <tr>\n",
              "      <th>1994</th>\n",
              "      <td>112</td>\n",
              "      <td>110</td>\n",
              "      <td>109</td>\n",
              "    </tr>\n",
              "    <tr>\n",
              "      <th>1996</th>\n",
              "      <td>629</td>\n",
              "      <td>608</td>\n",
              "      <td>605</td>\n",
              "    </tr>\n",
              "    <tr>\n",
              "      <th>1998</th>\n",
              "      <td>150</td>\n",
              "      <td>145</td>\n",
              "      <td>145</td>\n",
              "    </tr>\n",
              "    <tr>\n",
              "      <th>2000</th>\n",
              "      <td>680</td>\n",
              "      <td>663</td>\n",
              "      <td>661</td>\n",
              "    </tr>\n",
              "    <tr>\n",
              "      <th>2002</th>\n",
              "      <td>159</td>\n",
              "      <td>162</td>\n",
              "      <td>157</td>\n",
              "    </tr>\n",
              "    <tr>\n",
              "      <th>2004</th>\n",
              "      <td>677</td>\n",
              "      <td>664</td>\n",
              "      <td>660</td>\n",
              "    </tr>\n",
              "    <tr>\n",
              "      <th>2006</th>\n",
              "      <td>175</td>\n",
              "      <td>176</td>\n",
              "      <td>175</td>\n",
              "    </tr>\n",
              "    <tr>\n",
              "      <th>2008</th>\n",
              "      <td>710</td>\n",
              "      <td>671</td>\n",
              "      <td>667</td>\n",
              "    </tr>\n",
              "    <tr>\n",
              "      <th>2010</th>\n",
              "      <td>171</td>\n",
              "      <td>174</td>\n",
              "      <td>175</td>\n",
              "    </tr>\n",
              "    <tr>\n",
              "      <th>2012</th>\n",
              "      <td>679</td>\n",
              "      <td>632</td>\n",
              "      <td>630</td>\n",
              "    </tr>\n",
              "    <tr>\n",
              "      <th>2014</th>\n",
              "      <td>198</td>\n",
              "      <td>202</td>\n",
              "      <td>197</td>\n",
              "    </tr>\n",
              "    <tr>\n",
              "      <th>2016</th>\n",
              "      <td>703</td>\n",
              "      <td>665</td>\n",
              "      <td>655</td>\n",
              "    </tr>\n",
              "  </tbody>\n",
              "</table>\n",
              "</div>\n",
              "    <div class=\"colab-df-buttons\">\n",
              "\n",
              "  <div class=\"colab-df-container\">\n",
              "    <button class=\"colab-df-convert\" onclick=\"convertToInteractive('df-596065bd-6bb6-4abe-b56f-4913de804a36')\"\n",
              "            title=\"Convert this dataframe to an interactive table.\"\n",
              "            style=\"display:none;\">\n",
              "\n",
              "  <svg xmlns=\"http://www.w3.org/2000/svg\" height=\"24px\" viewBox=\"0 -960 960 960\">\n",
              "    <path d=\"M120-120v-720h720v720H120Zm60-500h600v-160H180v160Zm220 220h160v-160H400v160Zm0 220h160v-160H400v160ZM180-400h160v-160H180v160Zm440 0h160v-160H620v160ZM180-180h160v-160H180v160Zm440 0h160v-160H620v160Z\"/>\n",
              "  </svg>\n",
              "    </button>\n",
              "\n",
              "  <style>\n",
              "    .colab-df-container {\n",
              "      display:flex;\n",
              "      gap: 12px;\n",
              "    }\n",
              "\n",
              "    .colab-df-convert {\n",
              "      background-color: #E8F0FE;\n",
              "      border: none;\n",
              "      border-radius: 50%;\n",
              "      cursor: pointer;\n",
              "      display: none;\n",
              "      fill: #1967D2;\n",
              "      height: 32px;\n",
              "      padding: 0 0 0 0;\n",
              "      width: 32px;\n",
              "    }\n",
              "\n",
              "    .colab-df-convert:hover {\n",
              "      background-color: #E2EBFA;\n",
              "      box-shadow: 0px 1px 2px rgba(60, 64, 67, 0.3), 0px 1px 3px 1px rgba(60, 64, 67, 0.15);\n",
              "      fill: #174EA6;\n",
              "    }\n",
              "\n",
              "    .colab-df-buttons div {\n",
              "      margin-bottom: 4px;\n",
              "    }\n",
              "\n",
              "    [theme=dark] .colab-df-convert {\n",
              "      background-color: #3B4455;\n",
              "      fill: #D2E3FC;\n",
              "    }\n",
              "\n",
              "    [theme=dark] .colab-df-convert:hover {\n",
              "      background-color: #434B5C;\n",
              "      box-shadow: 0px 1px 3px 1px rgba(0, 0, 0, 0.15);\n",
              "      filter: drop-shadow(0px 1px 2px rgba(0, 0, 0, 0.3));\n",
              "      fill: #FFFFFF;\n",
              "    }\n",
              "  </style>\n",
              "\n",
              "    <script>\n",
              "      const buttonEl =\n",
              "        document.querySelector('#df-596065bd-6bb6-4abe-b56f-4913de804a36 button.colab-df-convert');\n",
              "      buttonEl.style.display =\n",
              "        google.colab.kernel.accessAllowed ? 'block' : 'none';\n",
              "\n",
              "      async function convertToInteractive(key) {\n",
              "        const element = document.querySelector('#df-596065bd-6bb6-4abe-b56f-4913de804a36');\n",
              "        const dataTable =\n",
              "          await google.colab.kernel.invokeFunction('convertToInteractive',\n",
              "                                                    [key], {});\n",
              "        if (!dataTable) return;\n",
              "\n",
              "        const docLinkHtml = 'Like what you see? Visit the ' +\n",
              "          '<a target=\"_blank\" href=https://colab.research.google.com/notebooks/data_table.ipynb>data table notebook</a>'\n",
              "          + ' to learn more about interactive tables.';\n",
              "        element.innerHTML = '';\n",
              "        dataTable['output_type'] = 'display_data';\n",
              "        await google.colab.output.renderOutput(dataTable, element);\n",
              "        const docLink = document.createElement('div');\n",
              "        docLink.innerHTML = docLinkHtml;\n",
              "        element.appendChild(docLink);\n",
              "      }\n",
              "    </script>\n",
              "  </div>\n",
              "\n",
              "\n",
              "<div id=\"df-4de9f896-1304-4083-9939-eef9dfd71ab9\">\n",
              "  <button class=\"colab-df-quickchart\" onclick=\"quickchart('df-4de9f896-1304-4083-9939-eef9dfd71ab9')\"\n",
              "            title=\"Suggest charts\"\n",
              "            style=\"display:none;\">\n",
              "\n",
              "<svg xmlns=\"http://www.w3.org/2000/svg\" height=\"24px\"viewBox=\"0 0 24 24\"\n",
              "     width=\"24px\">\n",
              "    <g>\n",
              "        <path d=\"M19 3H5c-1.1 0-2 .9-2 2v14c0 1.1.9 2 2 2h14c1.1 0 2-.9 2-2V5c0-1.1-.9-2-2-2zM9 17H7v-7h2v7zm4 0h-2V7h2v10zm4 0h-2v-4h2v4z\"/>\n",
              "    </g>\n",
              "</svg>\n",
              "  </button>\n",
              "\n",
              "<style>\n",
              "  .colab-df-quickchart {\n",
              "      --bg-color: #E8F0FE;\n",
              "      --fill-color: #1967D2;\n",
              "      --hover-bg-color: #E2EBFA;\n",
              "      --hover-fill-color: #174EA6;\n",
              "      --disabled-fill-color: #AAA;\n",
              "      --disabled-bg-color: #DDD;\n",
              "  }\n",
              "\n",
              "  [theme=dark] .colab-df-quickchart {\n",
              "      --bg-color: #3B4455;\n",
              "      --fill-color: #D2E3FC;\n",
              "      --hover-bg-color: #434B5C;\n",
              "      --hover-fill-color: #FFFFFF;\n",
              "      --disabled-bg-color: #3B4455;\n",
              "      --disabled-fill-color: #666;\n",
              "  }\n",
              "\n",
              "  .colab-df-quickchart {\n",
              "    background-color: var(--bg-color);\n",
              "    border: none;\n",
              "    border-radius: 50%;\n",
              "    cursor: pointer;\n",
              "    display: none;\n",
              "    fill: var(--fill-color);\n",
              "    height: 32px;\n",
              "    padding: 0;\n",
              "    width: 32px;\n",
              "  }\n",
              "\n",
              "  .colab-df-quickchart:hover {\n",
              "    background-color: var(--hover-bg-color);\n",
              "    box-shadow: 0 1px 2px rgba(60, 64, 67, 0.3), 0 1px 3px 1px rgba(60, 64, 67, 0.15);\n",
              "    fill: var(--button-hover-fill-color);\n",
              "  }\n",
              "\n",
              "  .colab-df-quickchart-complete:disabled,\n",
              "  .colab-df-quickchart-complete:disabled:hover {\n",
              "    background-color: var(--disabled-bg-color);\n",
              "    fill: var(--disabled-fill-color);\n",
              "    box-shadow: none;\n",
              "  }\n",
              "\n",
              "  .colab-df-spinner {\n",
              "    border: 2px solid var(--fill-color);\n",
              "    border-color: transparent;\n",
              "    border-bottom-color: var(--fill-color);\n",
              "    animation:\n",
              "      spin 1s steps(1) infinite;\n",
              "  }\n",
              "\n",
              "  @keyframes spin {\n",
              "    0% {\n",
              "      border-color: transparent;\n",
              "      border-bottom-color: var(--fill-color);\n",
              "      border-left-color: var(--fill-color);\n",
              "    }\n",
              "    20% {\n",
              "      border-color: transparent;\n",
              "      border-left-color: var(--fill-color);\n",
              "      border-top-color: var(--fill-color);\n",
              "    }\n",
              "    30% {\n",
              "      border-color: transparent;\n",
              "      border-left-color: var(--fill-color);\n",
              "      border-top-color: var(--fill-color);\n",
              "      border-right-color: var(--fill-color);\n",
              "    }\n",
              "    40% {\n",
              "      border-color: transparent;\n",
              "      border-right-color: var(--fill-color);\n",
              "      border-top-color: var(--fill-color);\n",
              "    }\n",
              "    60% {\n",
              "      border-color: transparent;\n",
              "      border-right-color: var(--fill-color);\n",
              "    }\n",
              "    80% {\n",
              "      border-color: transparent;\n",
              "      border-right-color: var(--fill-color);\n",
              "      border-bottom-color: var(--fill-color);\n",
              "    }\n",
              "    90% {\n",
              "      border-color: transparent;\n",
              "      border-bottom-color: var(--fill-color);\n",
              "    }\n",
              "  }\n",
              "</style>\n",
              "\n",
              "  <script>\n",
              "    async function quickchart(key) {\n",
              "      const quickchartButtonEl =\n",
              "        document.querySelector('#' + key + ' button');\n",
              "      quickchartButtonEl.disabled = true;  // To prevent multiple clicks.\n",
              "      quickchartButtonEl.classList.add('colab-df-spinner');\n",
              "      try {\n",
              "        const charts = await google.colab.kernel.invokeFunction(\n",
              "            'suggestCharts', [key], {});\n",
              "      } catch (error) {\n",
              "        console.error('Error during call to suggestCharts:', error);\n",
              "      }\n",
              "      quickchartButtonEl.classList.remove('colab-df-spinner');\n",
              "      quickchartButtonEl.classList.add('colab-df-quickchart-complete');\n",
              "    }\n",
              "    (() => {\n",
              "      let quickchartButtonEl =\n",
              "        document.querySelector('#df-4de9f896-1304-4083-9939-eef9dfd71ab9 button');\n",
              "      quickchartButtonEl.style.display =\n",
              "        google.colab.kernel.accessAllowed ? 'block' : 'none';\n",
              "    })();\n",
              "  </script>\n",
              "</div>\n",
              "    </div>\n",
              "  </div>\n"
            ]
          },
          "metadata": {},
          "execution_count": 50
        }
      ]
    },
    {
      "cell_type": "markdown",
      "metadata": {
        "id": "0wFiJ3Q6Gtl_"
      },
      "source": [
        "# <font color='red'>**You are Geek!**</fond>\n",
        "### Provide all your answers with plots"
      ]
    },
    {
      "cell_type": "markdown",
      "metadata": {
        "id": "bGJWv4O1qw2t"
      },
      "source": [
        "### Find the number of winners with the gold medal in each city?"
      ]
    },
    {
      "cell_type": "code",
      "execution_count": 81,
      "metadata": {
        "id": "pHKtuJtiqv6S",
        "colab": {
          "base_uri": "https://localhost:8080/"
        },
        "outputId": "695a8bee-8000-4a3c-8412-8430e3c240a0"
      },
      "outputs": [
        {
          "output_type": "execute_result",
          "data": {
            "text/plain": [
              "City\n",
              "Albertville                104\n",
              "Amsterdam                  245\n",
              "Antwerpen                  493\n",
              "Athina                     883\n",
              "Atlanta                    608\n",
              "Barcelona                  559\n",
              "Beijing                    671\n",
              "Berlin                     312\n",
              "Calgary                     87\n",
              "Chamonix                    55\n",
              "Cortina d'Ampezzo           51\n",
              "Garmisch-Partenkirchen      36\n",
              "Grenoble                    66\n",
              "Helsinki                   306\n",
              "Innsbruck                  131\n",
              "Lake Placid                104\n",
              "Lillehammer                110\n",
              "London                    1215\n",
              "Los Angeles                726\n",
              "Melbourne                  290\n",
              "Mexico City                359\n",
              "Montreal                   438\n",
              "Moskva                     457\n",
              "Munich                     404\n",
              "Nagano                     145\n",
              "Oslo                        45\n",
              "Paris                      475\n",
              "Rio de Janeiro             665\n",
              "Roma                       309\n",
              "Salt Lake City             162\n",
              "Sankt Moritz                71\n",
              "Sapporo                     70\n",
              "Sarajevo                    74\n",
              "Seoul                      520\n",
              "Sochi                      202\n",
              "Squaw Valley                50\n",
              "St. Louis                  173\n",
              "Stockholm                  338\n",
              "Sydney                     663\n",
              "Tokyo                      347\n",
              "Torino                     176\n",
              "Vancouver                  174\n",
              "Name: ID, dtype: int64"
            ]
          },
          "metadata": {},
          "execution_count": 81
        }
      ],
      "source": [
        "winners = df[df['Medal']=='Gold']\n",
        "df_winners = winners.groupby('City')['ID'].count()\n",
        "df_winners"
      ]
    },
    {
      "cell_type": "code",
      "execution_count": 82,
      "metadata": {
        "id": "nlblMfgfqzDk",
        "colab": {
          "base_uri": "https://localhost:8080/",
          "height": 847
        },
        "outputId": "857d8ccf-b444-4b60-8c90-ebbfe8005c0c"
      },
      "outputs": [
        {
          "output_type": "execute_result",
          "data": {
            "text/plain": [
              "<Axes: ylabel='City'>"
            ]
          },
          "metadata": {},
          "execution_count": 82
        },
        {
          "output_type": "display_data",
          "data": {
            "text/plain": [
              "<Figure size 1500x1000 with 1 Axes>"
            ],
            "image/png": "[encoded data removed]"
          },
          "metadata": {}
        }
      ],
      "source": [
        "plt.figure(figsize=(15,10))\n",
        "df_winners.plot(kind='barh')"
      ]
    },
    {
      "cell_type": "markdown",
      "metadata": {
        "id": "zByZdd-a8_a3"
      },
      "source": [
        "### Find the total missing data for each year?"
      ]
    },
    {
      "cell_type": "code",
      "execution_count": 96,
      "metadata": {
        "id": "PCWUB8Hx8mPp",
        "colab": {
          "base_uri": "https://localhost:8080/"
        },
        "outputId": "4836de2e-13f8-4fd0-c16b-5815a9f1ddc5"
      },
      "outputs": [
        {
          "output_type": "execute_result",
          "data": {
            "text/plain": [
              "Year\n",
              "1896      380\n",
              "1900     1898\n",
              "1904     1301\n",
              "1906     1733\n",
              "1908     3069\n",
              "1912     4040\n",
              "1920     4292\n",
              "1924     5570\n",
              "1928     5238\n",
              "1932     2817\n",
              "1936     7146\n",
              "1948     7383\n",
              "1952     9358\n",
              "1956     6434\n",
              "1960     9235\n",
              "1964     9480\n",
              "1968    10479\n",
              "1972    11959\n",
              "1976    10502\n",
              "1980     8937\n",
              "1984    11588\n",
              "1988    14676\n",
              "1992    16413\n",
              "1994     3160\n",
              "1996    13780\n",
              "1998     3605\n",
              "2000    13821\n",
              "2002     4109\n",
              "2004    13443\n",
              "2006     4382\n",
              "2008    13602\n",
              "2010     4402\n",
              "2012    12920\n",
              "2014     4891\n",
              "2016    13688\n",
              "Name: missing_each_row, dtype: int64"
            ]
          },
          "metadata": {},
          "execution_count": 96
        }
      ],
      "source": [
        "df['missing_each_row'] = df.isnull().sum(1)\n",
        "missing = df.groupby('Year')['missing_each_row'].count()\n",
        "missing"
      ]
    },
    {
      "cell_type": "code",
      "execution_count": 98,
      "metadata": {
        "id": "L1MdA3qv_bWs",
        "colab": {
          "base_uri": "https://localhost:8080/",
          "height": 847
        },
        "outputId": "079dc3b6-d539-44ec-8dee-cf01a2ea46a3"
      },
      "outputs": [
        {
          "output_type": "execute_result",
          "data": {
            "text/plain": [
              "<Axes: ylabel='Year'>"
            ]
          },
          "metadata": {},
          "execution_count": 98
        },
        {
          "output_type": "display_data",
          "data": {
            "text/plain": [
              "<Figure size 1500x1000 with 1 Axes>"
            ],
            "image/png": "[encoded data removed]"
          },
          "metadata": {}
        }
      ],
      "source": [
        "plt.figure(figsize=(15,10))\n",
        "missing.plot(kind='barh')"
      ]
    },
    {
      "cell_type": "markdown",
      "metadata": {
        "id": "nHDM_mzIroRs"
      },
      "source": [
        "# <font color='red'>**I dare you to solve this :)**</fond>\n",
        "### Dont use for loops, and provide all your answers with plots."
      ]
    },
    {
      "cell_type": "markdown",
      "metadata": {
        "id": "wyUGDK1phYmN"
      },
      "source": [
        "### Has the number of athletes changed over time for Summer and Winter?"
      ]
    },
    {
      "cell_type": "code",
      "execution_count": 116,
      "metadata": {
        "id": "b7lfwk2AFUQy",
        "colab": {
          "base_uri": "https://localhost:8080/"
        },
        "outputId": "e64acf28-0037-4038-e5dc-4013069b3854"
      },
      "outputs": [
        {
          "output_type": "execute_result",
          "data": {
            "text/plain": [
              "Year  Season\n",
              "1896  Summer      176\n",
              "1900  Summer     1224\n",
              "1904  Summer      650\n",
              "1906  Summer      841\n",
              "1908  Summer     2024\n",
              "1912  Summer     2409\n",
              "1920  Summer     2676\n",
              "1924  Summer     3256\n",
              "      Winter      313\n",
              "1928  Summer     3247\n",
              "      Winter      461\n",
              "1932  Summer     1922\n",
              "      Winter      252\n",
              "1936  Summer     4484\n",
              "      Winter      668\n",
              "1948  Summer     4402\n",
              "      Winter      668\n",
              "1952  Summer     4932\n",
              "      Winter      694\n",
              "1956  Summer     3347\n",
              "      Winter      821\n",
              "1960  Summer     5352\n",
              "      Winter      665\n",
              "1964  Summer     5137\n",
              "      Winter     1094\n",
              "1968  Summer     5558\n",
              "      Winter     1160\n",
              "1972  Summer     7114\n",
              "      Winter     1008\n",
              "1976  Summer     6073\n",
              "      Winter     1128\n",
              "1980  Summer     5259\n",
              "      Winter     1071\n",
              "1984  Summer     6798\n",
              "      Winter     1273\n",
              "1988  Summer     8454\n",
              "      Winter     1425\n",
              "1992  Summer     9386\n",
              "      Winter     1801\n",
              "1994  Winter     1738\n",
              "1996  Summer    10339\n",
              "1998  Winter     2179\n",
              "2000  Summer    10647\n",
              "2002  Winter     2399\n",
              "2004  Summer    10557\n",
              "2006  Winter     2494\n",
              "2008  Summer    10899\n",
              "2010  Winter     2536\n",
              "2012  Summer    10517\n",
              "2014  Winter     2745\n",
              "2016  Summer    11179\n",
              "Name: ID, dtype: int64"
            ]
          },
          "metadata": {},
          "execution_count": 116
        }
      ],
      "source": [
        "athletes = df.groupby(['Year','Season'])['ID'].nunique()\n",
        "athletes"
      ]
    },
    {
      "cell_type": "code",
      "execution_count": 120,
      "metadata": {
        "id": "VCP1ZUr1hdMf",
        "colab": {
          "base_uri": "https://localhost:8080/",
          "height": 482
        },
        "outputId": "4619e08c-eee8-40af-b6a1-b639a579c6e1"
      },
      "outputs": [
        {
          "output_type": "execute_result",
          "data": {
            "text/plain": [
              "<Axes: xlabel='Year'>"
            ]
          },
          "metadata": {},
          "execution_count": 120
        },
        {
          "output_type": "display_data",
          "data": {
            "text/plain": [
              "<Figure size 2000x500 with 1 Axes>"
            ],
            "image/png": "[encoded data removed]"
          },
          "metadata": {}
        }
      ],
      "source": [
        "plt.figure(figsize=(20,5))\n",
        "sb.lineplot(x=athletes.index.get_level_values('Year'), y=athletes.values, hue=athletes.index.get_level_values('Season'), marker='X')"
      ]
    }
  ],
  "metadata": {
    "colab": {
      "provenance": []
    },
    "kernelspec": {
      "display_name": "Python 3",
      "language": "python",
      "name": "python3"
    },
    "language_info": {
      "codemirror_mode": {
        "name": "ipython",
        "version": 3
      },
      "file_extension": ".py",
      "mimetype": "text/x-python",
      "name": "python",
      "nbconvert_exporter": "python",
      "pygments_lexer": "ipython3",
      "version": "3.8.8"
    }
  },
  "nbformat": 4,
  "nbformat_minor": 0
}